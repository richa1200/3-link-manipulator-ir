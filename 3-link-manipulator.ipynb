{
 "cells": [
  {
   "cell_type": "code",
   "execution_count": 1,
   "id": "bd2710d3",
   "metadata": {},
   "outputs": [],
   "source": [
    "\n",
    "import pandas as pd\n",
    "import math\n",
    "import random\n",
    "import matplotlib.pyplot as plt\n",
    "from sklearn.model_selection import train_test_split\n",
    "from keras import models\n",
    "from keras import layers\n",
    "from keras import regularizers\n",
    "import numpy as np"
   ]
  },
  {
   "cell_type": "code",
   "execution_count": 2,
   "id": "937aae0a",
   "metadata": {},
   "outputs": [],
   "source": [
    "l1 = l2 = l3 = 7"
   ]
  },
  {
   "cell_type": "code",
   "execution_count": 3,
   "id": "664b85a6",
   "metadata": {},
   "outputs": [],
   "source": [
    "## Generating dataset for training\n",
    "\n",
    "def three_link_manipulator_dataset():\n",
    "    rows = []\n",
    "    for i in range(1, 100000):\n",
    "        theta1 = round(random.uniform(0, math.pi), 2)\n",
    "        theta2 = round(random.uniform(-math.pi, 0), 2)\n",
    "        theta3 = round(random.uniform(-math.pi/2, math.pi/2), 2)\n",
    "        \n",
    "        x = round(l1*math.cos(theta1)+l2*math.cos(theta1+theta2)+l3*math.cos(theta1+theta2+theta3), 2)\n",
    "        y = round(l1*math.sin(theta1)+l2*math.sin(theta1+theta2)+l3*math.sin(theta1+theta2+theta3), 2)\n",
    "        phi = round(math.degrees(theta1)+math.degrees(theta2)+math.degrees(theta3), 2)\n",
    "        \n",
    "        rows.append([theta1, theta2, theta3, x, y, phi])\n",
    "\n",
    "    df = pd.DataFrame(rows, columns=['theta1', 'theta2', 'theta3', 'x', 'y', 'phi'])\n",
    "    df.to_csv('three_link.csv', index=False)\n",
    "    \n",
    "three_link_manipulator_dataset()"
   ]
  },
  {
   "cell_type": "code",
   "execution_count": 4,
   "id": "760c36b6",
   "metadata": {},
   "outputs": [
    {
     "data": {
      "text/html": [
       "<div>\n",
       "<style scoped>\n",
       "    .dataframe tbody tr th:only-of-type {\n",
       "        vertical-align: middle;\n",
       "    }\n",
       "\n",
       "    .dataframe tbody tr th {\n",
       "        vertical-align: top;\n",
       "    }\n",
       "\n",
       "    .dataframe thead th {\n",
       "        text-align: right;\n",
       "    }\n",
       "</style>\n",
       "<table border=\"1\" class=\"dataframe\">\n",
       "  <thead>\n",
       "    <tr style=\"text-align: right;\">\n",
       "      <th></th>\n",
       "      <th>theta1</th>\n",
       "      <th>theta2</th>\n",
       "      <th>theta3</th>\n",
       "      <th>x</th>\n",
       "      <th>y</th>\n",
       "      <th>phi</th>\n",
       "    </tr>\n",
       "  </thead>\n",
       "  <tbody>\n",
       "    <tr>\n",
       "      <th>0</th>\n",
       "      <td>1.45</td>\n",
       "      <td>-1.11</td>\n",
       "      <td>0.05</td>\n",
       "      <td>13.92</td>\n",
       "      <td>11.94</td>\n",
       "      <td>22.35</td>\n",
       "    </tr>\n",
       "    <tr>\n",
       "      <th>1</th>\n",
       "      <td>2.23</td>\n",
       "      <td>-1.83</td>\n",
       "      <td>0.47</td>\n",
       "      <td>6.67</td>\n",
       "      <td>13.61</td>\n",
       "      <td>49.85</td>\n",
       "    </tr>\n",
       "    <tr>\n",
       "      <th>2</th>\n",
       "      <td>2.99</td>\n",
       "      <td>-2.47</td>\n",
       "      <td>-0.96</td>\n",
       "      <td>5.49</td>\n",
       "      <td>1.55</td>\n",
       "      <td>-25.21</td>\n",
       "    </tr>\n",
       "    <tr>\n",
       "      <th>3</th>\n",
       "      <td>0.80</td>\n",
       "      <td>-2.47</td>\n",
       "      <td>1.31</td>\n",
       "      <td>10.73</td>\n",
       "      <td>-4.41</td>\n",
       "      <td>-20.63</td>\n",
       "    </tr>\n",
       "    <tr>\n",
       "      <th>4</th>\n",
       "      <td>2.23</td>\n",
       "      <td>-1.95</td>\n",
       "      <td>-0.86</td>\n",
       "      <td>8.30</td>\n",
       "      <td>3.63</td>\n",
       "      <td>-33.23</td>\n",
       "    </tr>\n",
       "  </tbody>\n",
       "</table>\n",
       "</div>"
      ],
      "text/plain": [
       "   theta1  theta2  theta3      x      y    phi\n",
       "0    1.45   -1.11    0.05  13.92  11.94  22.35\n",
       "1    2.23   -1.83    0.47   6.67  13.61  49.85\n",
       "2    2.99   -2.47   -0.96   5.49   1.55 -25.21\n",
       "3    0.80   -2.47    1.31  10.73  -4.41 -20.63\n",
       "4    2.23   -1.95   -0.86   8.30   3.63 -33.23"
      ]
     },
     "execution_count": 4,
     "metadata": {},
     "output_type": "execute_result"
    }
   ],
   "source": [
    "three_link_data = pd.read_csv('three_link.csv')\n",
    "three_link_data.head()"
   ]
  },
  {
   "cell_type": "code",
   "execution_count": 5,
   "id": "6265eb08",
   "metadata": {},
   "outputs": [
    {
     "data": {
      "image/png": "[encoded data removed]",
      "text/plain": [
       "<Figure size 432x288 with 1 Axes>"
      ]
     },
     "metadata": {
      "needs_background": "light"
     },
     "output_type": "display_data"
    }
   ],
   "source": [
    "plt.scatter(three_link_data['x'], three_link_data['y'])\n",
    "plt.show()"
   ]
  },
  {
   "cell_type": "code",
   "execution_count": 6,
   "id": "560bded2",
   "metadata": {},
   "outputs": [],
   "source": [
    "# Splitting training and testing dataset\n",
    "\n",
    "X = three_link_data[['x', 'y', 'phi']]\n",
    "y = three_link_data[['theta1', 'theta2', 'theta3']]\n",
    "train_X, test_X, train_y, test_y = train_test_split(X, y, test_size=0.1)"
   ]
  },
  {
   "cell_type": "code",
   "execution_count": 7,
   "id": "24e4fc5d",
   "metadata": {},
   "outputs": [
    {
     "name": "stdout",
     "output_type": "stream",
     "text": [
      "Model: \"sequential\"\n",
      "_________________________________________________________________\n",
      "Layer (type)                 Output Shape              Param #   \n",
      "=================================================================\n",
      "dense (Dense)                (None, 3)                 12        \n",
      "_________________________________________________________________\n",
      "dense_1 (Dense)              (None, 100)               400       \n",
      "_________________________________________________________________\n",
      "dense_2 (Dense)              (None, 100)               10100     \n",
      "_________________________________________________________________\n",
      "dense_3 (Dense)              (None, 3)                 303       \n",
      "=================================================================\n",
      "Total params: 10,815\n",
      "Trainable params: 10,815\n",
      "Non-trainable params: 0\n",
      "_________________________________________________________________\n"
     ]
    }
   ],
   "source": [
    "# Defining model\n",
    "\n",
    "model = models.Sequential()\n",
    "model.add(layers.Dense(units=3, input_dim=3, kernel_initializer='uniform'))\n",
    "model.add(layers.Dense(units=100, kernel_initializer='uniform', activation='relu'))\n",
    "model.add(layers.Dense(units=100, kernel_initializer='uniform', activation='relu'))\n",
    "model.add(layers.Dense(units=3, kernel_initializer = 'uniform', activation='linear'))\n",
    "\n",
    "model.summary()"
   ]
  },
  {
   "cell_type": "code",
   "execution_count": 8,
   "id": "4679408d",
   "metadata": {},
   "outputs": [],
   "source": [
    "model.compile(optimizer='adam', loss='mean_squared_error', metrics=['accuracy'])"
   ]
  },
  {
   "cell_type": "code",
   "execution_count": 9,
   "id": "d54f42cb",
   "metadata": {},
   "outputs": [
    {
     "name": "stdout",
     "output_type": "stream",
     "text": [
      "Epoch 1/30\n",
      "2532/2532 [==============================] - 13s 2ms/step - loss: 0.4126 - accuracy: 0.9072 - val_loss: 0.0412 - val_accuracy: 0.9634\n",
      "Epoch 2/30\n",
      "2532/2532 [==============================] - 5s 2ms/step - loss: 0.0417 - accuracy: 0.9623 - val_loss: 0.0349 - val_accuracy: 0.9621\n",
      "Epoch 3/30\n",
      "2532/2532 [==============================] - 5s 2ms/step - loss: 0.0325 - accuracy: 0.9690 - val_loss: 0.0290 - val_accuracy: 0.9702\n",
      "Epoch 4/30\n",
      "2532/2532 [==============================] - 3s 1ms/step - loss: 0.0281 - accuracy: 0.9715 - val_loss: 0.0242 - val_accuracy: 0.9726\n",
      "Epoch 5/30\n",
      "2532/2532 [==============================] - 2s 929us/step - loss: 0.0249 - accuracy: 0.9719 - val_loss: 0.0224 - val_accuracy: 0.9751\n",
      "Epoch 6/30\n",
      "2532/2532 [==============================] - 3s 1ms/step - loss: 0.0223 - accuracy: 0.9730 - val_loss: 0.0210 - val_accuracy: 0.9710\n",
      "Epoch 7/30\n",
      "2532/2532 [==============================] - 4s 2ms/step - loss: 0.0205 - accuracy: 0.9755 - val_loss: 0.0243 - val_accuracy: 0.9752\n",
      "Epoch 8/30\n",
      "2532/2532 [==============================] - 4s 2ms/step - loss: 0.0198 - accuracy: 0.9773 - val_loss: 0.0232 - val_accuracy: 0.9688\n",
      "Epoch 9/30\n",
      "2532/2532 [==============================] - 4s 2ms/step - loss: 0.0192 - accuracy: 0.9781 - val_loss: 0.0213 - val_accuracy: 0.9797\n",
      "Epoch 10/30\n",
      "2532/2532 [==============================] - 4s 2ms/step - loss: 0.0181 - accuracy: 0.9796 - val_loss: 0.0187 - val_accuracy: 0.9821\n",
      "Epoch 11/30\n",
      "2532/2532 [==============================] - 5s 2ms/step - loss: 0.0167 - accuracy: 0.9803 - val_loss: 0.0160 - val_accuracy: 0.9811\n",
      "Epoch 12/30\n",
      "2532/2532 [==============================] - 4s 2ms/step - loss: 0.0170 - accuracy: 0.9808 - val_loss: 0.0191 - val_accuracy: 0.9828\n",
      "Epoch 13/30\n",
      "2532/2532 [==============================] - 4s 2ms/step - loss: 0.0163 - accuracy: 0.9816 - val_loss: 0.0127 - val_accuracy: 0.9840\n",
      "Epoch 14/30\n",
      "2532/2532 [==============================] - 4s 1ms/step - loss: 0.0152 - accuracy: 0.9819 - val_loss: 0.0219 - val_accuracy: 0.9831\n",
      "Epoch 15/30\n",
      "2532/2532 [==============================] - 3s 1ms/step - loss: 0.0153 - accuracy: 0.9812 - val_loss: 0.0170 - val_accuracy: 0.9803\n",
      "Epoch 16/30\n",
      "2532/2532 [==============================] - 4s 2ms/step - loss: 0.0158 - accuracy: 0.9811 - val_loss: 0.0152 - val_accuracy: 0.9823\n",
      "Epoch 17/30\n",
      "2532/2532 [==============================] - 4s 1ms/step - loss: 0.0143 - accuracy: 0.9821 - val_loss: 0.0188 - val_accuracy: 0.9850\n",
      "Epoch 18/30\n",
      "2532/2532 [==============================] - 5s 2ms/step - loss: 0.0138 - accuracy: 0.9827 - val_loss: 0.0165 - val_accuracy: 0.9752\n",
      "Epoch 19/30\n",
      "2532/2532 [==============================] - 4s 1ms/step - loss: 0.0141 - accuracy: 0.9843 - val_loss: 0.0134 - val_accuracy: 0.9807\n",
      "Epoch 20/30\n",
      "2532/2532 [==============================] - 3s 1ms/step - loss: 0.0137 - accuracy: 0.9829 - val_loss: 0.0196 - val_accuracy: 0.9696\n",
      "Epoch 21/30\n",
      "2532/2532 [==============================] - 4s 1ms/step - loss: 0.0134 - accuracy: 0.9837 - val_loss: 0.0139 - val_accuracy: 0.9783\n",
      "Epoch 22/30\n",
      "2532/2532 [==============================] - 3s 1ms/step - loss: 0.0137 - accuracy: 0.9842 - val_loss: 0.0195 - val_accuracy: 0.9850\n",
      "Epoch 23/30\n",
      "2532/2532 [==============================] - 4s 2ms/step - loss: 0.0130 - accuracy: 0.9837 - val_loss: 0.0110 - val_accuracy: 0.9816\n",
      "Epoch 24/30\n",
      "2532/2532 [==============================] - 4s 1ms/step - loss: 0.0129 - accuracy: 0.9843 - val_loss: 0.0175 - val_accuracy: 0.9863\n",
      "Epoch 25/30\n",
      "2532/2532 [==============================] - 3s 1ms/step - loss: 0.0125 - accuracy: 0.9844 - val_loss: 0.0111 - val_accuracy: 0.9862\n",
      "Epoch 26/30\n",
      "2532/2532 [==============================] - 3s 1ms/step - loss: 0.0124 - accuracy: 0.9848 - val_loss: 0.0102 - val_accuracy: 0.9892\n",
      "Epoch 27/30\n",
      "2532/2532 [==============================] - 3s 1ms/step - loss: 0.0119 - accuracy: 0.9851 - val_loss: 0.0176 - val_accuracy: 0.9767\n",
      "Epoch 28/30\n",
      "2532/2532 [==============================] - 4s 2ms/step - loss: 0.0121 - accuracy: 0.9846 - val_loss: 0.0133 - val_accuracy: 0.9816\n",
      "Epoch 29/30\n",
      "2532/2532 [==============================] - 3s 1ms/step - loss: 0.0119 - accuracy: 0.9858 - val_loss: 0.0105 - val_accuracy: 0.9894\n",
      "Epoch 30/30\n",
      "2532/2532 [==============================] - 4s 1ms/step - loss: 0.0113 - accuracy: 0.9854 - val_loss: 0.0099 - val_accuracy: 0.9854\n"
     ]
    }
   ],
   "source": [
    "# Training model\n",
    "\n",
    "history = model.fit(train_X, train_y, epochs=30, validation_split=0.1, shuffle=True)"
   ]
  },
  {
   "cell_type": "code",
   "execution_count": 10,
   "id": "f3e8784f",
   "metadata": {},
   "outputs": [
    {
     "data": {
      "image/png": "[encoded data removed]",
      "text/plain": [
       "<Figure size 432x288 with 1 Axes>"
      ]
     },
     "metadata": {
      "needs_background": "light"
     },
     "output_type": "display_data"
    }
   ],
   "source": [
    "\n",
    "# Plotting model accuracy\n",
    "\n",
    "plt.plot(history.history['accuracy'])\n",
    "plt.plot(history.history['val_accuracy'])\n",
    "plt.title('model accuracy')\n",
    "plt.ylabel('accuracy')\n",
    "plt.xlabel('epoch')\n",
    "plt.legend(['train', 'val'], loc='upper left')\n",
    "plt.show()"
   ]
  },
  {
   "cell_type": "code",
   "execution_count": 11,
   "id": "ae28888d",
   "metadata": {},
   "outputs": [
    {
     "data": {
      "image/png": "[encoded data removed]",
      "text/plain": [
       "<Figure size 432x288 with 1 Axes>"
      ]
     },
     "metadata": {
      "needs_background": "light"
     },
     "output_type": "display_data"
    }
   ],
   "source": [
    "\n",
    "# Plotting model loss\n",
    "\n",
    "plt.plot(history.history['loss'])\n",
    "plt.plot(history.history['val_loss'])\n",
    "plt.title('model loss')\n",
    "plt.ylabel('loss')\n",
    "plt.xlabel('epoch')\n",
    "plt.legend(['train', 'val'], loc='upper left')\n",
    "plt.show()"
   ]
  },
  {
   "cell_type": "code",
   "execution_count": 12,
   "id": "a6595e5d",
   "metadata": {},
   "outputs": [
    {
     "name": "stdout",
     "output_type": "stream",
     "text": [
      "313/313 [==============================] - 0s 830us/step - loss: 0.0092 - accuracy: 0.9857\n",
      "\n",
      "Testing Loss =  0.009157203137874603\n",
      "Testing Accuracy =  0.9857000112533569\n"
     ]
    }
   ],
   "source": [
    "\n",
    "# Evaluating the model on test set\n",
    "\n",
    "test_loss, test_acc = model.evaluate(test_X, test_y)\n",
    "\n",
    "print('\\nTesting Loss = ', test_loss) \n",
    "print('Testing Accuracy = ', test_acc)"
   ]
  },
  {
   "cell_type": "code",
   "execution_count": 13,
   "id": "24cefaea",
   "metadata": {},
   "outputs": [],
   "source": [
    "def iiitm_dataset():\n",
    "    rows = []\n",
    "\n",
    "    # for I\n",
    "    arr = np.linspace(5, 7, 100)\n",
    "    for y in arr:\n",
    "        x = 6\n",
    "        theta = math.degrees(math.atan(y/x))\n",
    "        rows.append([x, y, theta])\n",
    "\n",
    "    # for I\n",
    "    arr = np.linspace(5, 7, 100)\n",
    "    for y in arr:\n",
    "        x = 7\n",
    "        theta = math.degrees(math.atan(y/x))\n",
    "        rows.append([x, y, theta])\n",
    "\n",
    "    # for I\n",
    "    arr = np.linspace(5, 7, 100)\n",
    "    for y in arr:\n",
    "        x = 8\n",
    "        theta = math.degrees(math.atan(y/x))\n",
    "        rows.append([x, y, theta])\n",
    "\n",
    "    # for T\n",
    "    arr = np.linspace(8.5, 10.5, 100)\n",
    "    for x in arr:\n",
    "        y = 7\n",
    "        theta = math.degrees(math.atan(y/x))\n",
    "        rows.append([x, y, theta])\n",
    "\n",
    "    arr = np.linspace(5, 7, 100)\n",
    "    for y in arr:\n",
    "        x = 9.5\n",
    "        theta = math.degrees(math.atan(y/x))\n",
    "        rows.append([x, y, theta])\n",
    "\n",
    "    # for M\n",
    "    arr = np.linspace(5, 7, 100)\n",
    "    for y in arr:\n",
    "        x = 11\n",
    "        theta = math.degrees(math.atan(y/x))\n",
    "        rows.append([x, y, theta])\n",
    "\n",
    "    arr = np.linspace(5, 7, 100)\n",
    "    for y in arr:\n",
    "        x = ((-y)+29)/2\n",
    "        theta = math.degrees(math.atan(y/x))\n",
    "        rows.append([x, y, theta])\n",
    "\n",
    "    arr = np.linspace(5, 7, 100)\n",
    "    for y in arr:\n",
    "        x = ((y)+19)/2\n",
    "        theta = math.degrees(math.atan(y/x))\n",
    "        rows.append([x, y, theta])\n",
    "\n",
    "    arr = np.linspace(5, 7, 100)\n",
    "    for y in arr:\n",
    "        x = 13\n",
    "        theta = math.degrees(math.atan(y/x))\n",
    "        rows.append([x, y, theta])\n",
    "\n",
    "    df = pd.DataFrame(rows, columns=['x', 'y', 'theta'])\n",
    "    df.to_csv('iiitm.csv', index=False)\n",
    "    \n",
    "iiitm_dataset()"
   ]
  },
  {
   "cell_type": "code",
   "execution_count": 14,
   "id": "9049efdb",
   "metadata": {},
   "outputs": [],
   "source": [
    "def three_link_forward_kinematics(theta1, theta2, theta3):\n",
    "    x = (np.cos(theta1)*l1)+(np.cos(theta1+theta2)*l2)+(np.cos(theta1+theta2+theta3)*l3)\n",
    "    y = (np.sin(theta1)*l1)+(np.sin(theta1+theta2)*l2)+(np.sin(theta1+theta2+theta3)*l3)\n",
    "\n",
    "    return x, y"
   ]
  },
  {
   "cell_type": "code",
   "execution_count": 15,
   "id": "9c954752",
   "metadata": {},
   "outputs": [],
   "source": [
    "iiitm_data = pd.read_csv('iiitm.csv')\n",
    "iiitm_predictions = model.predict(iiitm_data.values)\n",
    "x_predictions, y_predictions = three_link_forward_kinematics(iiitm_predictions[:,0], iiitm_predictions[:,1], iiitm_predictions[:,2])"
   ]
  },
  {
   "cell_type": "code",
   "execution_count": 16,
   "id": "634d1571",
   "metadata": {},
   "outputs": [
    {
     "data": {
      "image/png": "[encoded data removed]",
      "text/plain": [
       "<Figure size 432x288 with 1 Axes>"
      ]
     },
     "metadata": {
      "needs_background": "light"
     },
     "output_type": "display_data"
    },
    {
     "data": {
      "image/png": "[encoded data removed]",
      "text/plain": [
       "<Figure size 432x288 with 1 Axes>"
      ]
     },
     "metadata": {
      "needs_background": "light"
     },
     "output_type": "display_data"
    },
    {
     "data": {
      "image/png": "[encoded data removed]",
      "text/plain": [
       "<Figure size 432x288 with 1 Axes>"
      ]
     },
     "metadata": {
      "needs_background": "light"
     },
     "output_type": "display_data"
    }
   ],
   "source": [
    "# Original\n",
    "plt.plot(iiitm_data['x'], iiitm_data['y'], 'go')\n",
    "plt.show()\n",
    "\n",
    "# Predicted\n",
    "plt.plot(x_predictions, y_predictions, 'bo')\n",
    "plt.show()\n",
    "\n",
    "# Original and Predicted\n",
    "plt.plot(iiitm_data['x'], iiitm_data['y'], 'go')\n",
    "plt.plot(x_predictions, y_predictions, 'bo')\n",
    "plt.show()"
   ]
  },
  {
   "cell_type": "code",
   "execution_count": 17,
   "id": "aa95b0d7",
   "metadata": {},
   "outputs": [],
   "source": [
    "def richa_dataset():\n",
    "    rows = []\n",
    "\n",
    "    # for R    \n",
    "    arr = np.linspace(5, 7, 100)\n",
    "    for y in arr:\n",
    "        x = 5\n",
    "        theta = math.degrees(math.atan(y/x))\n",
    "        rows.append([x, y, theta])\n",
    "\n",
    "    arr = np.linspace(5, 6, 100)\n",
    "    for x in arr:\n",
    "        y = 6\n",
    "        theta = math.degrees(math.atan(y/x))\n",
    "        rows.append([x, y, theta])\n",
    "\n",
    "    arr = np.linspace(5, 6, 100)\n",
    "    for x in arr:\n",
    "        y = 7\n",
    "        theta = math.degrees(math.atan(y/x))\n",
    "        rows.append([x, y, theta])\n",
    "        \n",
    "    arr = np.linspace(6, 7, 100)\n",
    "    for y in arr:\n",
    "        x = 6\n",
    "        theta = math.degrees(math.atan(y/x))\n",
    "        rows.append([x, y, theta])\n",
    "        \n",
    "    arr = np.linspace(5, 6, 100)\n",
    "    for y in arr:\n",
    "        x = -y+11\n",
    "        theta = math.degrees(math.atan(y/x))\n",
    "        rows.append([x, y, theta])\n",
    "    \n",
    "    # for I\n",
    "    arr = np.linspace(5, 7, 100)\n",
    "    for y in arr:\n",
    "        x = 7\n",
    "        theta = math.degrees(math.atan(y/x))\n",
    "        rows.append([x, y, theta])\n",
    "    \n",
    "    # for C\n",
    "    arr = np.linspace(5, 7, 100)\n",
    "    for y in arr:\n",
    "        x = 8\n",
    "        theta = math.degrees(math.atan(y/x))\n",
    "        rows.append([x, y, theta])\n",
    "\n",
    "    arr = np.linspace(8, 9, 100)\n",
    "    for x in arr:\n",
    "        y = 5\n",
    "        theta = math.degrees(math.atan(y/x))\n",
    "        rows.append([x, y, theta])\n",
    "\n",
    "    arr = np.linspace(8, 9, 100)\n",
    "    for x in arr:\n",
    "        y = 7\n",
    "        theta = math.degrees(math.atan(y/x))\n",
    "        rows.append([x, y, theta])\n",
    "    \n",
    "    # for H\n",
    "    arr = np.linspace(5, 7, 100)\n",
    "    for y in arr:\n",
    "        x = 10\n",
    "        theta = math.degrees(math.atan(y/x))\n",
    "        rows.append([x, y, theta])\n",
    "    \n",
    "    arr = np.linspace(5, 7, 100)\n",
    "    for y in arr:\n",
    "        x = 11\n",
    "        theta = math.degrees(math.atan(y/x))\n",
    "        rows.append([x, y, theta])\n",
    "        \n",
    "    arr = np.linspace(10, 11, 100)\n",
    "    for x in arr:\n",
    "        y = 6\n",
    "        theta = math.degrees(math.atan(y/x))\n",
    "        rows.append([x, y, theta])\n",
    "    \n",
    "    # for A\n",
    "    arr = np.linspace(5, 7, 100)\n",
    "    for y in arr:\n",
    "        x = (y+19)/2\n",
    "        theta = math.degrees(math.atan(y/x))\n",
    "        rows.append([x, y, theta])\n",
    "\n",
    "    arr = np.linspace(5, 7, 100)\n",
    "    for y in arr:\n",
    "        x = (-y+33)/2\n",
    "        theta = math.degrees(math.atan(y/x))\n",
    "        rows.append([x, y, theta])\n",
    "\n",
    "    arr = np.linspace(12.5, 13.5, 50)\n",
    "    for x in arr:\n",
    "        y = 6\n",
    "        theta = math.degrees(math.atan(y/x))\n",
    "        rows.append([x, y, theta])\n",
    "    \n",
    "    \n",
    "    \n",
    "\n",
    "    df = pd.DataFrame(rows, columns=['x', 'y', 'theta'])\n",
    "    df.to_csv('richa.csv', index=False)\n",
    "    \n",
    "richa_dataset()"
   ]
  },
  {
   "cell_type": "code",
   "execution_count": 18,
   "id": "9cdc99f2",
   "metadata": {},
   "outputs": [],
   "source": [
    "richa_data = pd.read_csv('richa.csv')\n",
    "richa_predictions = model.predict(richa_data.values)\n",
    "x_predictions, y_predictions = three_link_forward_kinematics(richa_predictions[:,0], richa_predictions[:,1], richa_predictions[:,2])"
   ]
  },
  {
   "cell_type": "code",
   "execution_count": 19,
   "id": "6683fd26",
   "metadata": {},
   "outputs": [
    {
     "data": {
      "image/png": "[encoded data removed]",
      "text/plain": [
       "<Figure size 432x288 with 1 Axes>"
      ]
     },
     "metadata": {
      "needs_background": "light"
     },
     "output_type": "display_data"
    },
    {
     "data": {
      "image/png": "[encoded data removed]",
      "text/plain": [
       "<Figure size 432x288 with 1 Axes>"
      ]
     },
     "metadata": {
      "needs_background": "light"
     },
     "output_type": "display_data"
    },
    {
     "data": {
      "image/png": "[encoded data removed]",
      "text/plain": [
       "<Figure size 432x288 with 1 Axes>"
      ]
     },
     "metadata": {
      "needs_background": "light"
     },
     "output_type": "display_data"
    }
   ],
   "source": [
    "\n",
    "# Original\n",
    "plt.plot(richa_data['x'], richa_data['y'], 'go')\n",
    "plt.show()\n",
    "\n",
    "# Predicted\n",
    "plt.plot(x_predictions, y_predictions, 'bo')\n",
    "plt.show()\n",
    "\n",
    "# Original and Predicted\n",
    "plt.plot(richa_data['x'], richa_data['y'], 'go')\n",
    "plt.plot(x_predictions, y_predictions, 'bo')\n",
    "plt.show()"
   ]
  },
  {
   "cell_type": "code",
   "execution_count": null,
   "id": "347b4fb1",
   "metadata": {},
   "outputs": [],
   "source": []
  }
 ],
 "metadata": {
  "kernelspec": {
   "display_name": "Python 3",
   "language": "python",
   "name": "python3"
  },
  "language_info": {
   "codemirror_mode": {
    "name": "ipython",
    "version": 3
   },
   "file_extension": ".py",
   "mimetype": "text/x-python",
   "name": "python",
   "nbconvert_exporter": "python",
   "pygments_lexer": "ipython3",
   "version": "3.9.4"
  }
 },
 "nbformat": 4,
 "nbformat_minor": 5
}
